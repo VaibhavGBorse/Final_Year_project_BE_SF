{
 "cells": [
  {
   "cell_type": "markdown",
   "id": "efe4500b",
   "metadata": {},
   "source": [
    "# Malicious URL Detection using Machine Learning"
   ]
  },
  {
   "cell_type": "markdown",
   "id": "37dcb8e2",
   "metadata": {},
   "source": [
    "#### Importing the neccessary packages"
   ]
  },
  {
   "cell_type": "code",
   "execution_count": 10,
   "id": "8a6a4249",
   "metadata": {},
   "outputs": [],
   "source": [
    "import pandas as pd\n",
    "import numpy as np\n",
    "import random\n",
    "import matplotlib.pyplot as plt\n",
    "from matplotlib.pyplot import figure\n",
    "import seaborn as sns\n",
    "\n",
    "from sklearn.metrics import f1_score,accuracy_score\n",
    "from sklearn.preprocessing import LabelEncoder\n",
    "from sklearn.model_selection import cross_val_score\n",
    "from sklearn.tree import DecisionTreeClassifier\n",
    "from sklearn.ensemble import RandomForestClassifier\n",
    "from time import process_time\n",
    "from nltk.tokenize import RegexpTokenizer\n",
    "from sklearn.feature_extraction.text import CountVectorizer\n",
    "from sklearn.feature_extraction.text import TfidfVectorizer\n",
    "from sklearn.linear_model import LogisticRegression\n",
    "from sklearn.model_selection import train_test_split\n",
    "from sklearn.pipeline import make_pipeline\n",
    "from sklearn.metrics import confusion_matrix\n",
    "import pickle"
   ]
  },
  {
   "cell_type": "code",
   "execution_count": 11,
   "id": "af1cb1f2",
   "metadata": {},
   "outputs": [],
   "source": [
    "# Importing the datasets\n",
    "url_df_1 = pd.read_csv('data.csv')\n",
    "url_df_2 = pd.read_csv('phishing_site_urls.csv')"
   ]
  },
  {
   "cell_type": "markdown",
   "id": "ea9005be",
   "metadata": {},
   "source": [
    "## Exploratory Data Analysis"
   ]
  },
  {
   "cell_type": "code",
   "execution_count": 12,
   "id": "cc43374f",
   "metadata": {},
   "outputs": [
    {
     "data": {
      "text/html": [
       "<div>\n",
       "<style scoped>\n",
       "    .dataframe tbody tr th:only-of-type {\n",
       "        vertical-align: middle;\n",
       "    }\n",
       "\n",
       "    .dataframe tbody tr th {\n",
       "        vertical-align: top;\n",
       "    }\n",
       "\n",
       "    .dataframe thead th {\n",
       "        text-align: right;\n",
       "    }\n",
       "</style>\n",
       "<table border=\"1\" class=\"dataframe\">\n",
       "  <thead>\n",
       "    <tr style=\"text-align: right;\">\n",
       "      <th></th>\n",
       "      <th>url</th>\n",
       "      <th>label</th>\n",
       "    </tr>\n",
       "  </thead>\n",
       "  <tbody>\n",
       "    <tr>\n",
       "      <th>0</th>\n",
       "      <td>diaryofagameaddict.com</td>\n",
       "      <td>bad</td>\n",
       "    </tr>\n",
       "    <tr>\n",
       "      <th>1</th>\n",
       "      <td>espdesign.com.au</td>\n",
       "      <td>bad</td>\n",
       "    </tr>\n",
       "    <tr>\n",
       "      <th>2</th>\n",
       "      <td>iamagameaddict.com</td>\n",
       "      <td>bad</td>\n",
       "    </tr>\n",
       "    <tr>\n",
       "      <th>3</th>\n",
       "      <td>kalantzis.net</td>\n",
       "      <td>bad</td>\n",
       "    </tr>\n",
       "    <tr>\n",
       "      <th>4</th>\n",
       "      <td>slightlyoffcenter.net</td>\n",
       "      <td>bad</td>\n",
       "    </tr>\n",
       "    <tr>\n",
       "      <th>5</th>\n",
       "      <td>toddscarwash.com</td>\n",
       "      <td>bad</td>\n",
       "    </tr>\n",
       "    <tr>\n",
       "      <th>6</th>\n",
       "      <td>tubemoviez.com</td>\n",
       "      <td>bad</td>\n",
       "    </tr>\n",
       "    <tr>\n",
       "      <th>7</th>\n",
       "      <td>ipl.hk</td>\n",
       "      <td>bad</td>\n",
       "    </tr>\n",
       "    <tr>\n",
       "      <th>8</th>\n",
       "      <td>crackspider.us/toolbar/install.php?pack=exe</td>\n",
       "      <td>bad</td>\n",
       "    </tr>\n",
       "    <tr>\n",
       "      <th>9</th>\n",
       "      <td>pos-kupang.com/</td>\n",
       "      <td>bad</td>\n",
       "    </tr>\n",
       "  </tbody>\n",
       "</table>\n",
       "</div>"
      ],
      "text/plain": [
       "                                           url label\n",
       "0                       diaryofagameaddict.com   bad\n",
       "1                             espdesign.com.au   bad\n",
       "2                           iamagameaddict.com   bad\n",
       "3                                kalantzis.net   bad\n",
       "4                        slightlyoffcenter.net   bad\n",
       "5                             toddscarwash.com   bad\n",
       "6                               tubemoviez.com   bad\n",
       "7                                       ipl.hk   bad\n",
       "8  crackspider.us/toolbar/install.php?pack=exe   bad\n",
       "9                              pos-kupang.com/   bad"
      ]
     },
     "execution_count": 12,
     "metadata": {},
     "output_type": "execute_result"
    }
   ],
   "source": [
    "url_df_1.head(10)"
   ]
  },
  {
   "cell_type": "code",
   "execution_count": 13,
   "id": "772acf0f",
   "metadata": {},
   "outputs": [
    {
     "data": {
      "text/html": [
       "<div>\n",
       "<style scoped>\n",
       "    .dataframe tbody tr th:only-of-type {\n",
       "        vertical-align: middle;\n",
       "    }\n",
       "\n",
       "    .dataframe tbody tr th {\n",
       "        vertical-align: top;\n",
       "    }\n",
       "\n",
       "    .dataframe thead th {\n",
       "        text-align: right;\n",
       "    }\n",
       "</style>\n",
       "<table border=\"1\" class=\"dataframe\">\n",
       "  <thead>\n",
       "    <tr style=\"text-align: right;\">\n",
       "      <th></th>\n",
       "      <th>URL</th>\n",
       "      <th>Label</th>\n",
       "    </tr>\n",
       "  </thead>\n",
       "  <tbody>\n",
       "    <tr>\n",
       "      <th>0</th>\n",
       "      <td>nobell.it/70ffb52d079109dca5664cce6f317373782/...</td>\n",
       "      <td>bad</td>\n",
       "    </tr>\n",
       "    <tr>\n",
       "      <th>1</th>\n",
       "      <td>www.dghjdgf.com/paypal.co.uk/cycgi-bin/webscrc...</td>\n",
       "      <td>bad</td>\n",
       "    </tr>\n",
       "    <tr>\n",
       "      <th>2</th>\n",
       "      <td>serviciosbys.com/paypal.cgi.bin.get-into.herf....</td>\n",
       "      <td>bad</td>\n",
       "    </tr>\n",
       "    <tr>\n",
       "      <th>3</th>\n",
       "      <td>mail.printakid.com/www.online.americanexpress....</td>\n",
       "      <td>bad</td>\n",
       "    </tr>\n",
       "    <tr>\n",
       "      <th>4</th>\n",
       "      <td>thewhiskeydregs.com/wp-content/themes/widescre...</td>\n",
       "      <td>bad</td>\n",
       "    </tr>\n",
       "    <tr>\n",
       "      <th>5</th>\n",
       "      <td>smilesvoegol.servebbs.org/voegol.php</td>\n",
       "      <td>bad</td>\n",
       "    </tr>\n",
       "    <tr>\n",
       "      <th>6</th>\n",
       "      <td>premierpaymentprocessing.com/includes/boleto-2...</td>\n",
       "      <td>bad</td>\n",
       "    </tr>\n",
       "    <tr>\n",
       "      <th>7</th>\n",
       "      <td>myxxxcollection.com/v1/js/jih321/bpd.com.do/do...</td>\n",
       "      <td>bad</td>\n",
       "    </tr>\n",
       "    <tr>\n",
       "      <th>8</th>\n",
       "      <td>super1000.info/docs</td>\n",
       "      <td>bad</td>\n",
       "    </tr>\n",
       "    <tr>\n",
       "      <th>9</th>\n",
       "      <td>horizonsgallery.com/js/bin/ssl1/_id/www.paypal...</td>\n",
       "      <td>bad</td>\n",
       "    </tr>\n",
       "  </tbody>\n",
       "</table>\n",
       "</div>"
      ],
      "text/plain": [
       "                                                 URL Label\n",
       "0  nobell.it/70ffb52d079109dca5664cce6f317373782/...   bad\n",
       "1  www.dghjdgf.com/paypal.co.uk/cycgi-bin/webscrc...   bad\n",
       "2  serviciosbys.com/paypal.cgi.bin.get-into.herf....   bad\n",
       "3  mail.printakid.com/www.online.americanexpress....   bad\n",
       "4  thewhiskeydregs.com/wp-content/themes/widescre...   bad\n",
       "5               smilesvoegol.servebbs.org/voegol.php   bad\n",
       "6  premierpaymentprocessing.com/includes/boleto-2...   bad\n",
       "7  myxxxcollection.com/v1/js/jih321/bpd.com.do/do...   bad\n",
       "8                                super1000.info/docs   bad\n",
       "9  horizonsgallery.com/js/bin/ssl1/_id/www.paypal...   bad"
      ]
     },
     "execution_count": 13,
     "metadata": {},
     "output_type": "execute_result"
    }
   ],
   "source": [
    "url_df_2.head(10)"
   ]
  },
  {
   "cell_type": "code",
   "execution_count": 14,
   "id": "2814796e",
   "metadata": {},
   "outputs": [
    {
     "name": "stdout",
     "output_type": "stream",
     "text": [
      "False\n",
      "False\n"
     ]
    }
   ],
   "source": [
    "# Checking for null values in the datasets\n",
    "print(url_df_1.isnull().values.any())\n",
    "print(url_df_2.isnull().values.any())\n",
    "\n",
    "\n",
    "#In case of null value we will fill the null values with mean: \n",
    "def dataImputation(data,key):\n",
    "    data = data.fillna(data[key].mean())\n",
    "    return data;"
   ]
  },
  {
   "cell_type": "markdown",
   "id": "070ccd9b",
   "metadata": {},
   "source": [
    "#### As we can see there aren't any null values in both the datasets, now we shall see the total number of entries in each dataset."
   ]
  },
  {
   "cell_type": "code",
   "execution_count": 15,
   "id": "9c404006",
   "metadata": {
    "scrolled": true
   },
   "outputs": [
    {
     "name": "stdout",
     "output_type": "stream",
     "text": [
      "(420464, 2)\n",
      "(549346, 2)\n",
      "969810\n"
     ]
    }
   ],
   "source": [
    "# Total Entries in both datasets\n",
    "print(url_df_1.shape)\n",
    "print(url_df_2.shape)\n",
    "print(url_df_1['label'].count() + url_df_2['Label'].count())"
   ]
  },
  {
   "cell_type": "markdown",
   "id": "9a326858",
   "metadata": {},
   "source": [
    "### Merging the two datasets"
   ]
  },
  {
   "cell_type": "code",
   "execution_count": 16,
   "id": "43aae5b0",
   "metadata": {},
   "outputs": [],
   "source": [
    "# Renaming the columns in the second dataset so that they match with the first one\n",
    "url_df_2 = url_df_2.rename(columns={'URL': 'url', 'Label': 'label'})\n",
    "# url_df = pd.merge(url_df_1, url_df_2)\n",
    "url_df = pd.concat([url_df_1,url_df_2]).drop_duplicates().reset_index(drop=True)"
   ]
  },
  {
   "cell_type": "code",
   "execution_count": 17,
   "id": "114f9ee8",
   "metadata": {},
   "outputs": [
    {
     "data": {
      "text/plain": [
       "(507197, 2)"
      ]
     },
     "execution_count": 17,
     "metadata": {},
     "output_type": "execute_result"
    }
   ],
   "source": [
    "url_df.shape"
   ]
  },
  {
   "cell_type": "markdown",
   "id": "21bda709",
   "metadata": {},
   "source": [
    "#### url_df is our main dataset and as we can see that there we many common values between the columns i.e. about 50% so now we are left with a total of about 5 lakh URLs to train our model with"
   ]
  },
  {
   "cell_type": "code",
   "execution_count": 18,
   "id": "78b025ea",
   "metadata": {},
   "outputs": [
    {
     "data": {
      "text/html": [
       "<div>\n",
       "<style scoped>\n",
       "    .dataframe tbody tr th:only-of-type {\n",
       "        vertical-align: middle;\n",
       "    }\n",
       "\n",
       "    .dataframe tbody tr th {\n",
       "        vertical-align: top;\n",
       "    }\n",
       "\n",
       "    .dataframe thead th {\n",
       "        text-align: right;\n",
       "    }\n",
       "</style>\n",
       "<table border=\"1\" class=\"dataframe\">\n",
       "  <thead>\n",
       "    <tr style=\"text-align: right;\">\n",
       "      <th></th>\n",
       "      <th>url</th>\n",
       "      <th>label</th>\n",
       "    </tr>\n",
       "  </thead>\n",
       "  <tbody>\n",
       "    <tr>\n",
       "      <th>count</th>\n",
       "      <td>507197</td>\n",
       "      <td>507197</td>\n",
       "    </tr>\n",
       "    <tr>\n",
       "      <th>unique</th>\n",
       "      <td>507196</td>\n",
       "      <td>2</td>\n",
       "    </tr>\n",
       "    <tr>\n",
       "      <th>top</th>\n",
       "      <td>tommyhumphreys.com/</td>\n",
       "      <td>good</td>\n",
       "    </tr>\n",
       "    <tr>\n",
       "      <th>freq</th>\n",
       "      <td>2</td>\n",
       "      <td>392897</td>\n",
       "    </tr>\n",
       "  </tbody>\n",
       "</table>\n",
       "</div>"
      ],
      "text/plain": [
       "                        url   label\n",
       "count                507197  507197\n",
       "unique               507196       2\n",
       "top     tommyhumphreys.com/    good\n",
       "freq                      2  392897"
      ]
     },
     "execution_count": 18,
     "metadata": {},
     "output_type": "execute_result"
    }
   ],
   "source": [
    "url_df.describe()"
   ]
  },
  {
   "cell_type": "code",
   "execution_count": 19,
   "id": "06a342d5",
   "metadata": {},
   "outputs": [
    {
     "name": "stdout",
     "output_type": "stream",
     "text": [
      "<class 'pandas.core.frame.DataFrame'>\n",
      "RangeIndex: 507197 entries, 0 to 507196\n",
      "Data columns (total 2 columns):\n",
      " #   Column  Non-Null Count   Dtype \n",
      "---  ------  --------------   ----- \n",
      " 0   url     507197 non-null  object\n",
      " 1   label   507197 non-null  object\n",
      "dtypes: object(2)\n",
      "memory usage: 7.7+ MB\n"
     ]
    }
   ],
   "source": [
    "url_df.info()"
   ]
  },
  {
   "cell_type": "code",
   "execution_count": 20,
   "id": "87f8e4df",
   "metadata": {},
   "outputs": [
    {
     "name": "stdout",
     "output_type": "stream",
     "text": [
      "The number of good URLs in the dataset is: 392897\n",
      "The number of bad URLs in the dataset is: 114300\n"
     ]
    },
    {
     "data": {
      "image/png": "[encoded data removed]",
      "text/plain": [
       "<Figure size 576x432 with 1 Axes>"
      ]
     },
     "metadata": {
      "needs_background": "light"
     },
     "output_type": "display_data"
    }
   ],
   "source": [
    "# Visualising our data\n",
    "\n",
    "figure(figsize=(8, 6))\n",
    "print(f\"The number of good URLs in the dataset is: {url_df['label'].where(url_df['label'] == 'good').count()}\")\n",
    "print(f\"The number of bad URLs in the dataset is: {url_df['label'].where(url_df['label'] == 'bad').count()}\")\n",
    "plot = sns.barplot(x = ['Good', 'Bad'], y = url_df['label'].value_counts())\n",
    "plot.set(xlabel='Type', ylabel='Count')\n",
    "plt.show();"
   ]
  },
  {
   "cell_type": "markdown",
   "id": "baf940c0",
   "metadata": {},
   "source": [
    "We can see that the number of Good URLs is far more than Bad URLs in our dataset and that makes our data <b>imbalanced</b> we can try resampling to solve this particular issue."
   ]
  },
  {
   "cell_type": "code",
   "execution_count": 21,
   "id": "3de08e4c",
   "metadata": {},
   "outputs": [],
   "source": [
    "good_urls = url_df[url_df['label'] == 'good']\n",
    "bad_urls = url_df[url_df['label'] == 'bad']"
   ]
  },
  {
   "cell_type": "code",
   "execution_count": 22,
   "id": "6a99b295",
   "metadata": {},
   "outputs": [
    {
     "data": {
      "text/html": [
       "<div>\n",
       "<style scoped>\n",
       "    .dataframe tbody tr th:only-of-type {\n",
       "        vertical-align: middle;\n",
       "    }\n",
       "\n",
       "    .dataframe tbody tr th {\n",
       "        vertical-align: top;\n",
       "    }\n",
       "\n",
       "    .dataframe thead th {\n",
       "        text-align: right;\n",
       "    }\n",
       "</style>\n",
       "<table border=\"1\" class=\"dataframe\">\n",
       "  <thead>\n",
       "    <tr style=\"text-align: right;\">\n",
       "      <th></th>\n",
       "      <th>url</th>\n",
       "      <th>label</th>\n",
       "    </tr>\n",
       "  </thead>\n",
       "  <tbody>\n",
       "    <tr>\n",
       "      <th>37044</th>\n",
       "      <td>01453.com/</td>\n",
       "      <td>good</td>\n",
       "    </tr>\n",
       "    <tr>\n",
       "      <th>37045</th>\n",
       "      <td>015fb31.netsolhost.com/bosstweed.html</td>\n",
       "      <td>good</td>\n",
       "    </tr>\n",
       "    <tr>\n",
       "      <th>37046</th>\n",
       "      <td>02bee66.netsolhost.com/lincolnhomepage/</td>\n",
       "      <td>good</td>\n",
       "    </tr>\n",
       "    <tr>\n",
       "      <th>37047</th>\n",
       "      <td>02ec0a3.netsolhost.com/getperson.php?personID=...</td>\n",
       "      <td>good</td>\n",
       "    </tr>\n",
       "    <tr>\n",
       "      <th>37048</th>\n",
       "      <td>032255.com/</td>\n",
       "      <td>good</td>\n",
       "    </tr>\n",
       "    <tr>\n",
       "      <th>37049</th>\n",
       "      <td>05minute.com/</td>\n",
       "      <td>good</td>\n",
       "    </tr>\n",
       "    <tr>\n",
       "      <th>37050</th>\n",
       "      <td>07090.blogspot.com/2011/07/westfield-police-of...</td>\n",
       "      <td>good</td>\n",
       "    </tr>\n",
       "    <tr>\n",
       "      <th>37051</th>\n",
       "      <td>08nrc.blogspot.com/</td>\n",
       "      <td>good</td>\n",
       "    </tr>\n",
       "    <tr>\n",
       "      <th>37052</th>\n",
       "      <td>0creditcard.biz/</td>\n",
       "      <td>good</td>\n",
       "    </tr>\n",
       "    <tr>\n",
       "      <th>37053</th>\n",
       "      <td>0dayreggaedancehall.blogspot.com/</td>\n",
       "      <td>good</td>\n",
       "    </tr>\n",
       "  </tbody>\n",
       "</table>\n",
       "</div>"
      ],
      "text/plain": [
       "                                                     url label\n",
       "37044                                         01453.com/  good\n",
       "37045              015fb31.netsolhost.com/bosstweed.html  good\n",
       "37046            02bee66.netsolhost.com/lincolnhomepage/  good\n",
       "37047  02ec0a3.netsolhost.com/getperson.php?personID=...  good\n",
       "37048                                        032255.com/  good\n",
       "37049                                      05minute.com/  good\n",
       "37050  07090.blogspot.com/2011/07/westfield-police-of...  good\n",
       "37051                                08nrc.blogspot.com/  good\n",
       "37052                                   0creditcard.biz/  good\n",
       "37053                  0dayreggaedancehall.blogspot.com/  good"
      ]
     },
     "execution_count": 22,
     "metadata": {},
     "output_type": "execute_result"
    }
   ],
   "source": [
    "good_urls.head(10)"
   ]
  },
  {
   "cell_type": "code",
   "execution_count": 23,
   "id": "79176d5c",
   "metadata": {},
   "outputs": [
    {
     "data": {
      "text/html": [
       "<div>\n",
       "<style scoped>\n",
       "    .dataframe tbody tr th:only-of-type {\n",
       "        vertical-align: middle;\n",
       "    }\n",
       "\n",
       "    .dataframe tbody tr th {\n",
       "        vertical-align: top;\n",
       "    }\n",
       "\n",
       "    .dataframe thead th {\n",
       "        text-align: right;\n",
       "    }\n",
       "</style>\n",
       "<table border=\"1\" class=\"dataframe\">\n",
       "  <thead>\n",
       "    <tr style=\"text-align: right;\">\n",
       "      <th></th>\n",
       "      <th>url</th>\n",
       "      <th>label</th>\n",
       "    </tr>\n",
       "  </thead>\n",
       "  <tbody>\n",
       "    <tr>\n",
       "      <th>0</th>\n",
       "      <td>diaryofagameaddict.com</td>\n",
       "      <td>bad</td>\n",
       "    </tr>\n",
       "    <tr>\n",
       "      <th>1</th>\n",
       "      <td>espdesign.com.au</td>\n",
       "      <td>bad</td>\n",
       "    </tr>\n",
       "    <tr>\n",
       "      <th>2</th>\n",
       "      <td>iamagameaddict.com</td>\n",
       "      <td>bad</td>\n",
       "    </tr>\n",
       "    <tr>\n",
       "      <th>3</th>\n",
       "      <td>kalantzis.net</td>\n",
       "      <td>bad</td>\n",
       "    </tr>\n",
       "    <tr>\n",
       "      <th>4</th>\n",
       "      <td>slightlyoffcenter.net</td>\n",
       "      <td>bad</td>\n",
       "    </tr>\n",
       "    <tr>\n",
       "      <th>5</th>\n",
       "      <td>toddscarwash.com</td>\n",
       "      <td>bad</td>\n",
       "    </tr>\n",
       "    <tr>\n",
       "      <th>6</th>\n",
       "      <td>tubemoviez.com</td>\n",
       "      <td>bad</td>\n",
       "    </tr>\n",
       "    <tr>\n",
       "      <th>7</th>\n",
       "      <td>ipl.hk</td>\n",
       "      <td>bad</td>\n",
       "    </tr>\n",
       "    <tr>\n",
       "      <th>8</th>\n",
       "      <td>crackspider.us/toolbar/install.php?pack=exe</td>\n",
       "      <td>bad</td>\n",
       "    </tr>\n",
       "    <tr>\n",
       "      <th>9</th>\n",
       "      <td>pos-kupang.com/</td>\n",
       "      <td>bad</td>\n",
       "    </tr>\n",
       "  </tbody>\n",
       "</table>\n",
       "</div>"
      ],
      "text/plain": [
       "                                           url label\n",
       "0                       diaryofagameaddict.com   bad\n",
       "1                             espdesign.com.au   bad\n",
       "2                           iamagameaddict.com   bad\n",
       "3                                kalantzis.net   bad\n",
       "4                        slightlyoffcenter.net   bad\n",
       "5                             toddscarwash.com   bad\n",
       "6                               tubemoviez.com   bad\n",
       "7                                       ipl.hk   bad\n",
       "8  crackspider.us/toolbar/install.php?pack=exe   bad\n",
       "9                              pos-kupang.com/   bad"
      ]
     },
     "execution_count": 23,
     "metadata": {},
     "output_type": "execute_result"
    }
   ],
   "source": [
    "bad_urls.head(10)"
   ]
  },
  {
   "cell_type": "markdown",
   "id": "3f570fdf",
   "metadata": {},
   "source": [
    "## Data Preprocessing\n",
    "We have now succesfully merged our datasets and got one unified one, we can see that our independent feature is the name of the URL, that opens a lot of ways to deal with as an NLP task. \n"
   ]
  },
  {
   "cell_type": "code",
   "execution_count": 24,
   "id": "bc4179de",
   "metadata": {},
   "outputs": [
    {
     "data": {
      "text/html": [
       "<div>\n",
       "<style scoped>\n",
       "    .dataframe tbody tr th:only-of-type {\n",
       "        vertical-align: middle;\n",
       "    }\n",
       "\n",
       "    .dataframe tbody tr th {\n",
       "        vertical-align: top;\n",
       "    }\n",
       "\n",
       "    .dataframe thead th {\n",
       "        text-align: right;\n",
       "    }\n",
       "</style>\n",
       "<table border=\"1\" class=\"dataframe\">\n",
       "  <thead>\n",
       "    <tr style=\"text-align: right;\">\n",
       "      <th></th>\n",
       "      <th>url</th>\n",
       "      <th>label</th>\n",
       "    </tr>\n",
       "  </thead>\n",
       "  <tbody>\n",
       "    <tr>\n",
       "      <th>249822</th>\n",
       "      <td>hindustantimes.com/entertainment/bollywood/Abh...</td>\n",
       "      <td>good</td>\n",
       "    </tr>\n",
       "    <tr>\n",
       "      <th>74786</th>\n",
       "      <td>en.wikipedia.org/wiki/John_William_Dawson</td>\n",
       "      <td>good</td>\n",
       "    </tr>\n",
       "    <tr>\n",
       "      <th>456597</th>\n",
       "      <td>szekely-szarvas.hu/templates/Ser-ici/visa_fur_...</td>\n",
       "      <td>bad</td>\n",
       "    </tr>\n",
       "    <tr>\n",
       "      <th>455321</th>\n",
       "      <td>paypal.com.com.cgi.bin.webscr.cmd.login.submit...</td>\n",
       "      <td>bad</td>\n",
       "    </tr>\n",
       "    <tr>\n",
       "      <th>460782</th>\n",
       "      <td>www.angelfire.com/indie/realdeal/</td>\n",
       "      <td>good</td>\n",
       "    </tr>\n",
       "    <tr>\n",
       "      <th>290796</th>\n",
       "      <td>moviefone.com/movie/dan-in-real-life/23761/main</td>\n",
       "      <td>good</td>\n",
       "    </tr>\n",
       "    <tr>\n",
       "      <th>7187</th>\n",
       "      <td>ilariacafiero.com/includes/dropbox/mail.126.co...</td>\n",
       "      <td>bad</td>\n",
       "    </tr>\n",
       "    <tr>\n",
       "      <th>279310</th>\n",
       "      <td>lyricspond.com/artist-the-isley-brothers/lyric...</td>\n",
       "      <td>good</td>\n",
       "    </tr>\n",
       "    <tr>\n",
       "      <th>367822</th>\n",
       "      <td>yelp.com/biz/maggianos-little-italy-boston</td>\n",
       "      <td>good</td>\n",
       "    </tr>\n",
       "    <tr>\n",
       "      <th>190001</th>\n",
       "      <td>biography.com/people/owen-hart-9542223</td>\n",
       "      <td>good</td>\n",
       "    </tr>\n",
       "    <tr>\n",
       "      <th>139235</th>\n",
       "      <td>southamerican-futbol.blogspot.com/2010/09/copa...</td>\n",
       "      <td>good</td>\n",
       "    </tr>\n",
       "    <tr>\n",
       "      <th>119323</th>\n",
       "      <td>news.discovery.com/space/russian-resistance-to...</td>\n",
       "      <td>good</td>\n",
       "    </tr>\n",
       "    <tr>\n",
       "      <th>303272</th>\n",
       "      <td>nhptv.org/natureworks/yellowcrownednightheron.htm</td>\n",
       "      <td>good</td>\n",
       "    </tr>\n",
       "    <tr>\n",
       "      <th>381278</th>\n",
       "      <td>secure.pmpress.org/index.php?l=product_detail&amp;...</td>\n",
       "      <td>good</td>\n",
       "    </tr>\n",
       "    <tr>\n",
       "      <th>404095</th>\n",
       "      <td>sandrethe.ru/gate.php</td>\n",
       "      <td>bad</td>\n",
       "    </tr>\n",
       "    <tr>\n",
       "      <th>501228</th>\n",
       "      <td>www.compton.nu/linkfs.html</td>\n",
       "      <td>good</td>\n",
       "    </tr>\n",
       "    <tr>\n",
       "      <th>113692</th>\n",
       "      <td>mountzionsite.com/religion_2/rev_selau_toilolo...</td>\n",
       "      <td>good</td>\n",
       "    </tr>\n",
       "    <tr>\n",
       "      <th>439366</th>\n",
       "      <td>participevisapremiosbrasil.pro.tc/</td>\n",
       "      <td>bad</td>\n",
       "    </tr>\n",
       "    <tr>\n",
       "      <th>457721</th>\n",
       "      <td>www.paypal.it.50840.amezionuk.org/cy5wZW5kaW5A...</td>\n",
       "      <td>bad</td>\n",
       "    </tr>\n",
       "    <tr>\n",
       "      <th>451650</th>\n",
       "      <td>'9d345009-a-62cb3a1a-s-sites.googlegroups.com/...</td>\n",
       "      <td>bad</td>\n",
       "    </tr>\n",
       "  </tbody>\n",
       "</table>\n",
       "</div>"
      ],
      "text/plain": [
       "                                                      url label\n",
       "249822  hindustantimes.com/entertainment/bollywood/Abh...  good\n",
       "74786           en.wikipedia.org/wiki/John_William_Dawson  good\n",
       "456597  szekely-szarvas.hu/templates/Ser-ici/visa_fur_...   bad\n",
       "455321  paypal.com.com.cgi.bin.webscr.cmd.login.submit...   bad\n",
       "460782                  www.angelfire.com/indie/realdeal/  good\n",
       "290796    moviefone.com/movie/dan-in-real-life/23761/main  good\n",
       "7187    ilariacafiero.com/includes/dropbox/mail.126.co...   bad\n",
       "279310  lyricspond.com/artist-the-isley-brothers/lyric...  good\n",
       "367822         yelp.com/biz/maggianos-little-italy-boston  good\n",
       "190001             biography.com/people/owen-hart-9542223  good\n",
       "139235  southamerican-futbol.blogspot.com/2010/09/copa...  good\n",
       "119323  news.discovery.com/space/russian-resistance-to...  good\n",
       "303272  nhptv.org/natureworks/yellowcrownednightheron.htm  good\n",
       "381278  secure.pmpress.org/index.php?l=product_detail&...  good\n",
       "404095                              sandrethe.ru/gate.php   bad\n",
       "501228                         www.compton.nu/linkfs.html  good\n",
       "113692  mountzionsite.com/religion_2/rev_selau_toilolo...  good\n",
       "439366                 participevisapremiosbrasil.pro.tc/   bad\n",
       "457721  www.paypal.it.50840.amezionuk.org/cy5wZW5kaW5A...   bad\n",
       "451650  '9d345009-a-62cb3a1a-s-sites.googlegroups.com/...   bad"
      ]
     },
     "execution_count": 24,
     "metadata": {},
     "output_type": "execute_result"
    }
   ],
   "source": [
    "url_df.sample(20)"
   ]
  },
  {
   "cell_type": "markdown",
   "id": "24ab4e76",
   "metadata": {},
   "source": [
    "#### Taking a quick look at the sample of our dataset we can see there are a lot of redundant things in our URL like '/ ',  ' : ',  ' . ', etc. these symbols are not neccessary for us. Further in the project we will be using TD-IDF Vectorizer to give scores to these URLs based on their lexical features. It will be a good if we will extract these words from the URL and remove all the redundant characters from it.\n"
   ]
  },
  {
   "cell_type": "markdown",
   "id": "fd957155",
   "metadata": {},
   "source": [
    "<ul>\n",
    "<li>To do this operation we used Regexp Tokenizer. What it does is that it splits the string using a regular express that we pass and we get the list of words that we need for our analysis. </li>\n",
    "    <li>According to the documentation: \"A <b>RegexpTokenizer</b> splits a string into substrings using a regular expression.\"\n",
    "    </ul>"
   ]
  },
  {
   "cell_type": "code",
   "execution_count": 25,
   "id": "ef6a5f1b",
   "metadata": {},
   "outputs": [],
   "source": [
    "tknizer = RegexpTokenizer(r'[A-Za-z]+')"
   ]
  },
  {
   "cell_type": "code",
   "execution_count": 26,
   "id": "2f51c475",
   "metadata": {},
   "outputs": [
    {
     "data": {
      "text/plain": [
       "['http',\n",
       " 'localhost',\n",
       " 'notebooks',\n",
       " 'Documents',\n",
       " 'Malicious',\n",
       " 'URL',\n",
       " 'Detection',\n",
       " 'URL',\n",
       " 'Detection',\n",
       " 'using',\n",
       " 'Python',\n",
       " 'ipynb']"
      ]
     },
     "execution_count": 26,
     "metadata": {},
     "output_type": "execute_result"
    }
   ],
   "source": [
    "#Testing on a random URL\n",
    "tknizer.tokenize('http://localhost:8888/notebooks/Documents/Malicious%20URL%20Detection/URL%20Detection%20using%20Python.ipynb')"
   ]
  },
  {
   "cell_type": "markdown",
   "id": "41420ed6",
   "metadata": {},
   "source": [
    "Defining a small function to form a new column in our dataframe that contains the tokenized URLs "
   ]
  },
  {
   "cell_type": "code",
   "execution_count": 27,
   "id": "53be6982",
   "metadata": {},
   "outputs": [
    {
     "name": "stdout",
     "output_type": "stream",
     "text": [
      "Starting the process to tokenize the URLs...\n",
      "Process Finished! and took 4.3125s\n"
     ]
    }
   ],
   "source": [
    "def tokenizeUrl(url):\n",
    "    return tknizer.tokenize(url)\n",
    "\n",
    "start = process_time()\n",
    "print('Starting the process to tokenize the URLs...')\n",
    "\n",
    "# Creating a new column in our dataframe that keeps the tokenized form of the URLs\n",
    "url_df['tokenized_url'] = url_df.url.map(tokenizeUrl)\n",
    "end = process_time()\n",
    "print(f'Process Finished! and took {end - start}s')"
   ]
  },
  {
   "cell_type": "code",
   "execution_count": 28,
   "id": "fb6baa2b",
   "metadata": {},
   "outputs": [
    {
     "data": {
      "text/html": [
       "<div>\n",
       "<style scoped>\n",
       "    .dataframe tbody tr th:only-of-type {\n",
       "        vertical-align: middle;\n",
       "    }\n",
       "\n",
       "    .dataframe tbody tr th {\n",
       "        vertical-align: top;\n",
       "    }\n",
       "\n",
       "    .dataframe thead th {\n",
       "        text-align: right;\n",
       "    }\n",
       "</style>\n",
       "<table border=\"1\" class=\"dataframe\">\n",
       "  <thead>\n",
       "    <tr style=\"text-align: right;\">\n",
       "      <th></th>\n",
       "      <th>url</th>\n",
       "      <th>label</th>\n",
       "      <th>tokenized_url</th>\n",
       "    </tr>\n",
       "  </thead>\n",
       "  <tbody>\n",
       "    <tr>\n",
       "      <th>0</th>\n",
       "      <td>diaryofagameaddict.com</td>\n",
       "      <td>bad</td>\n",
       "      <td>[diaryofagameaddict, com]</td>\n",
       "    </tr>\n",
       "    <tr>\n",
       "      <th>1</th>\n",
       "      <td>espdesign.com.au</td>\n",
       "      <td>bad</td>\n",
       "      <td>[espdesign, com, au]</td>\n",
       "    </tr>\n",
       "    <tr>\n",
       "      <th>2</th>\n",
       "      <td>iamagameaddict.com</td>\n",
       "      <td>bad</td>\n",
       "      <td>[iamagameaddict, com]</td>\n",
       "    </tr>\n",
       "    <tr>\n",
       "      <th>3</th>\n",
       "      <td>kalantzis.net</td>\n",
       "      <td>bad</td>\n",
       "      <td>[kalantzis, net]</td>\n",
       "    </tr>\n",
       "    <tr>\n",
       "      <th>4</th>\n",
       "      <td>slightlyoffcenter.net</td>\n",
       "      <td>bad</td>\n",
       "      <td>[slightlyoffcenter, net]</td>\n",
       "    </tr>\n",
       "  </tbody>\n",
       "</table>\n",
       "</div>"
      ],
      "text/plain": [
       "                      url label              tokenized_url\n",
       "0  diaryofagameaddict.com   bad  [diaryofagameaddict, com]\n",
       "1        espdesign.com.au   bad       [espdesign, com, au]\n",
       "2      iamagameaddict.com   bad      [iamagameaddict, com]\n",
       "3           kalantzis.net   bad           [kalantzis, net]\n",
       "4   slightlyoffcenter.net   bad   [slightlyoffcenter, net]"
      ]
     },
     "execution_count": 28,
     "metadata": {},
     "output_type": "execute_result"
    }
   ],
   "source": [
    "url_df.head(5)"
   ]
  },
  {
   "cell_type": "markdown",
   "id": "e83e050e",
   "metadata": {},
   "source": [
    "We only need the words of the URL not the commas that are seperating them in the list so we will define a function that removes the commas and append that as a new column \n",
    "in our Dataframe."
   ]
  },
  {
   "cell_type": "code",
   "execution_count": 29,
   "id": "39df4418",
   "metadata": {},
   "outputs": [],
   "source": [
    "def clean_token(token):\n",
    "    return ' '.join(token);\n",
    "\n",
    "url_df['tokenized_url_cleaned'] = url_df['tokenized_url'].map(clean_token)"
   ]
  },
  {
   "cell_type": "code",
   "execution_count": 30,
   "id": "68fa2c71",
   "metadata": {},
   "outputs": [
    {
     "data": {
      "text/html": [
       "<div>\n",
       "<style scoped>\n",
       "    .dataframe tbody tr th:only-of-type {\n",
       "        vertical-align: middle;\n",
       "    }\n",
       "\n",
       "    .dataframe tbody tr th {\n",
       "        vertical-align: top;\n",
       "    }\n",
       "\n",
       "    .dataframe thead th {\n",
       "        text-align: right;\n",
       "    }\n",
       "</style>\n",
       "<table border=\"1\" class=\"dataframe\">\n",
       "  <thead>\n",
       "    <tr style=\"text-align: right;\">\n",
       "      <th></th>\n",
       "      <th>url</th>\n",
       "      <th>label</th>\n",
       "      <th>tokenized_url</th>\n",
       "      <th>tokenized_url_cleaned</th>\n",
       "    </tr>\n",
       "  </thead>\n",
       "  <tbody>\n",
       "    <tr>\n",
       "      <th>175811</th>\n",
       "      <td>amazon.com/Topps-George-Baseball-Kansas-Royals...</td>\n",
       "      <td>good</td>\n",
       "      <td>[amazon, com, Topps, George, Baseball, Kansas,...</td>\n",
       "      <td>amazon com Topps George Baseball Kansas Royals...</td>\n",
       "    </tr>\n",
       "    <tr>\n",
       "      <th>286892</th>\n",
       "      <td>metrolyrics.com/whats-next-lyrics-filter.html</td>\n",
       "      <td>good</td>\n",
       "      <td>[metrolyrics, com, whats, next, lyrics, filter...</td>\n",
       "      <td>metrolyrics com whats next lyrics filter html</td>\n",
       "    </tr>\n",
       "    <tr>\n",
       "      <th>29618</th>\n",
       "      <td>ikjrolls.com/wp-content/plugins/PDF/login.htm</td>\n",
       "      <td>bad</td>\n",
       "      <td>[ikjrolls, com, wp, content, plugins, PDF, log...</td>\n",
       "      <td>ikjrolls com wp content plugins PDF login htm</td>\n",
       "    </tr>\n",
       "    <tr>\n",
       "      <th>246458</th>\n",
       "      <td>greatseats.com/seating_charts/Sidney_Harman_Ha...</td>\n",
       "      <td>good</td>\n",
       "      <td>[greatseats, com, seating, charts, Sidney, Har...</td>\n",
       "      <td>greatseats com seating charts Sidney Harman Ha...</td>\n",
       "    </tr>\n",
       "    <tr>\n",
       "      <th>12544</th>\n",
       "      <td>avanti.websitewelcome.com/~prairie3/Pay-Pal.v4...</td>\n",
       "      <td>bad</td>\n",
       "      <td>[avanti, websitewelcome, com, prairie, Pay, Pa...</td>\n",
       "      <td>avanti websitewelcome com prairie Pay Pal v pa...</td>\n",
       "    </tr>\n",
       "    <tr>\n",
       "      <th>56618</th>\n",
       "      <td>chuckfor.blogspot.com/2009/03/so-long-my-boy.html</td>\n",
       "      <td>good</td>\n",
       "      <td>[chuckfor, blogspot, com, so, long, my, boy, h...</td>\n",
       "      <td>chuckfor blogspot com so long my boy html</td>\n",
       "    </tr>\n",
       "    <tr>\n",
       "      <th>23330</th>\n",
       "      <td>jo4ykw2t.myutilitydomain.com/scan/280a5ba78559...</td>\n",
       "      <td>bad</td>\n",
       "      <td>[jo, ykw, t, myutilitydomain, com, scan, a, ba...</td>\n",
       "      <td>jo ykw t myutilitydomain com scan a ba c e cb ...</td>\n",
       "    </tr>\n",
       "    <tr>\n",
       "      <th>80844</th>\n",
       "      <td>en.wikiquote.org/wiki/Category:Films</td>\n",
       "      <td>good</td>\n",
       "      <td>[en, wikiquote, org, wiki, Category, Films]</td>\n",
       "      <td>en wikiquote org wiki Category Films</td>\n",
       "    </tr>\n",
       "    <tr>\n",
       "      <th>422704</th>\n",
       "      <td>www.nitrorchelicopter.net/bc/alfa.htm</td>\n",
       "      <td>bad</td>\n",
       "      <td>[www, nitrorchelicopter, net, bc, alfa, htm]</td>\n",
       "      <td>www nitrorchelicopter net bc alfa htm</td>\n",
       "    </tr>\n",
       "    <tr>\n",
       "      <th>266116</th>\n",
       "      <td>kcmsd.net/schools/home3.asp?schoolid=46&amp;t=3&amp;s=0</td>\n",
       "      <td>good</td>\n",
       "      <td>[kcmsd, net, schools, home, asp, schoolid, t, s]</td>\n",
       "      <td>kcmsd net schools home asp schoolid t s</td>\n",
       "    </tr>\n",
       "  </tbody>\n",
       "</table>\n",
       "</div>"
      ],
      "text/plain": [
       "                                                      url label  \\\n",
       "175811  amazon.com/Topps-George-Baseball-Kansas-Royals...  good   \n",
       "286892      metrolyrics.com/whats-next-lyrics-filter.html  good   \n",
       "29618       ikjrolls.com/wp-content/plugins/PDF/login.htm   bad   \n",
       "246458  greatseats.com/seating_charts/Sidney_Harman_Ha...  good   \n",
       "12544   avanti.websitewelcome.com/~prairie3/Pay-Pal.v4...   bad   \n",
       "56618   chuckfor.blogspot.com/2009/03/so-long-my-boy.html  good   \n",
       "23330   jo4ykw2t.myutilitydomain.com/scan/280a5ba78559...   bad   \n",
       "80844                en.wikiquote.org/wiki/Category:Films  good   \n",
       "422704              www.nitrorchelicopter.net/bc/alfa.htm   bad   \n",
       "266116    kcmsd.net/schools/home3.asp?schoolid=46&t=3&s=0  good   \n",
       "\n",
       "                                            tokenized_url  \\\n",
       "175811  [amazon, com, Topps, George, Baseball, Kansas,...   \n",
       "286892  [metrolyrics, com, whats, next, lyrics, filter...   \n",
       "29618   [ikjrolls, com, wp, content, plugins, PDF, log...   \n",
       "246458  [greatseats, com, seating, charts, Sidney, Har...   \n",
       "12544   [avanti, websitewelcome, com, prairie, Pay, Pa...   \n",
       "56618   [chuckfor, blogspot, com, so, long, my, boy, h...   \n",
       "23330   [jo, ykw, t, myutilitydomain, com, scan, a, ba...   \n",
       "80844         [en, wikiquote, org, wiki, Category, Films]   \n",
       "422704       [www, nitrorchelicopter, net, bc, alfa, htm]   \n",
       "266116   [kcmsd, net, schools, home, asp, schoolid, t, s]   \n",
       "\n",
       "                                    tokenized_url_cleaned  \n",
       "175811  amazon com Topps George Baseball Kansas Royals...  \n",
       "286892      metrolyrics com whats next lyrics filter html  \n",
       "29618       ikjrolls com wp content plugins PDF login htm  \n",
       "246458  greatseats com seating charts Sidney Harman Ha...  \n",
       "12544   avanti websitewelcome com prairie Pay Pal v pa...  \n",
       "56618           chuckfor blogspot com so long my boy html  \n",
       "23330   jo ykw t myutilitydomain com scan a ba c e cb ...  \n",
       "80844                en wikiquote org wiki Category Films  \n",
       "422704              www nitrorchelicopter net bc alfa htm  \n",
       "266116            kcmsd net schools home asp schoolid t s  "
      ]
     },
     "execution_count": 30,
     "metadata": {},
     "output_type": "execute_result"
    }
   ],
   "source": [
    "url_df.sample(10)"
   ]
  },
  {
   "cell_type": "markdown",
   "id": "474d9251",
   "metadata": {},
   "source": [
    "## TF-IDF Vectorizer\n",
    "We are using TF-IDF algorithm to transform our tokenized_urls into numerical representation that we further use in our Machine learning algorithm to make predictions. \n",
    "\n",
    "<br>\n",
    "\n",
    "<b> What does TF-IDF vectorizer do? </b>\n",
    "\n",
    "\n",
    "<br>\n",
    "What it does is that it first calculates the term frequency i.e.\n",
    "    \n",
    "<br><b>Term Frequency</b>:  (Number of repetions of particular word in sentence)/(Number of words in sentence)\n",
    "\n",
    "<br>\n",
    "Then it calculates the Inverse document frequency i.e.\n",
    "\n",
    "<br><b>IDF:</b> log((No. of sentences)/(No. of sentences containing that word))\n",
    "\n",
    "<br> In the final step it multiplies TF and IDF and assigns that value to the word\n",
    "    "
   ]
  },
  {
   "cell_type": "code",
   "execution_count": 31,
   "id": "fee651eb",
   "metadata": {},
   "outputs": [
    {
     "name": "stdout",
     "output_type": "stream",
     "text": [
      "Vectorizing URLs...\n",
      "Task Complete! and took 11.078125s\n"
     ]
    }
   ],
   "source": [
    "vectorizer = TfidfVectorizer();\n",
    "\n",
    "start = process_time()\n",
    "print('Vectorizing URLs...')\n",
    "url_names = vectorizer.fit_transform(url_df.tokenized_url_cleaned)\n",
    "end = process_time()\n",
    "print(f'Task Complete! and took {end - start}s')"
   ]
  },
  {
   "cell_type": "code",
   "execution_count": 32,
   "id": "163bf2ba",
   "metadata": {},
   "outputs": [
    {
     "name": "stdout",
     "output_type": "stream",
     "text": [
      "  (0, 63362)\t0.09925989975711395\n",
      "  (0, 81754)\t0.9950615419662282\n",
      "  (1, 21257)\t0.39068637641562304\n",
      "  (1, 101040)\t0.9159778799029434\n",
      "  (1, 63362)\t0.09137110490597747\n",
      "  (2, 147412)\t0.9950615419662282\n",
      "  (2, 63362)\t0.09925989975711395\n",
      "  (3, 221298)\t0.2799929475489598\n",
      "  (3, 169685)\t0.9600020569367783\n",
      "  (4, 293180)\t0.9600020569367783\n",
      "  (4, 221298)\t0.2799929475489598\n",
      "  (5, 319915)\t0.9950615419662282\n",
      "  (5, 63362)\t0.09925989975711395\n",
      "  (6, 325043)\t0.9950615419662282\n",
      "  (6, 63362)\t0.09925989975711395\n",
      "  (7, 140983)\t0.5975473955006156\n",
      "  (7, 155814)\t0.8018335925430106\n",
      "  (8, 103330)\t0.28465190890071357\n",
      "  (8, 239645)\t0.41432622837353766\n",
      "  (8, 247315)\t0.14797423343187988\n",
      "  (8, 154091)\t0.382212337742083\n",
      "  (8, 320623)\t0.45201911914126386\n",
      "  (8, 332413)\t0.20421639991275892\n",
      "  (8, 68799)\t0.5773203619277139\n",
      "  (9, 178525)\t0.8187156226973928\n",
      "  :\t:\n",
      "  (507193, 355657)\t0.44497484381538777\n",
      "  (507193, 354709)\t0.1681294249584026\n",
      "  (507193, 3676)\t0.35735522366398786\n",
      "  (507193, 63362)\t0.0683570620746211\n",
      "  (507194, 349223)\t0.2533936807256806\n",
      "  (507194, 77348)\t0.47829306755600887\n",
      "  (507194, 297196)\t0.4990214642371575\n",
      "  (507194, 349272)\t0.2687331848529626\n",
      "  (507194, 121166)\t0.3986948820267225\n",
      "  (507194, 337989)\t0.36983230471729267\n",
      "  (507194, 97993)\t0.22855405034396067\n",
      "  (507194, 236615)\t0.19446578411151222\n",
      "  (507195, 80464)\t0.6937715043791304\n",
      "  (507195, 129341)\t0.6013051988315138\n",
      "  (507195, 13859)\t0.35121252047284673\n",
      "  (507195, 354709)\t0.17021612022358837\n",
      "  (507195, 63362)\t0.06920545823019238\n",
      "  (507196, 157223)\t0.5140048068035176\n",
      "  (507196, 157175)\t0.3697554760250773\n",
      "  (507196, 329238)\t0.42596679851864916\n",
      "  (507196, 345629)\t0.3759434504277625\n",
      "  (507196, 356659)\t0.30509836022677156\n",
      "  (507196, 189542)\t0.3129875143140642\n",
      "  (507196, 290472)\t0.2874432339744477\n",
      "  (507196, 63362)\t0.051273276522351495\n"
     ]
    }
   ],
   "source": [
    "print(url_names)"
   ]
  },
  {
   "cell_type": "markdown",
   "id": "a238c442",
   "metadata": {},
   "source": [
    "### Splitting the data for training and testing"
   ]
  },
  {
   "cell_type": "code",
   "execution_count": 33,
   "id": "89a3f118",
   "metadata": {},
   "outputs": [
    {
     "name": "stdout",
     "output_type": "stream",
     "text": [
      "(380397, 369586)\n",
      "(380397,)\n",
      "(126800, 369586)\n",
      "(126800,)\n"
     ]
    }
   ],
   "source": [
    "trainX, testX, trainY, testY = train_test_split(url_names, url_df.label)\n",
    "print(trainX.shape)\n",
    "print(trainY.shape)\n",
    "print(testX.shape)\n",
    "print(testY.shape)"
   ]
  },
  {
   "cell_type": "markdown",
   "id": "fbcf9efe",
   "metadata": {},
   "source": [
    "# MODELLING"
   ]
  },
  {
   "cell_type": "code",
   "execution_count": 34,
   "id": "a8ed68d0",
   "metadata": {},
   "outputs": [],
   "source": [
    "# An array to store the scores of both models\n",
    "model_scores = []"
   ]
  },
  {
   "cell_type": "markdown",
   "id": "31400db4",
   "metadata": {},
   "source": [
    "## 1. Logistic Regression\n",
    "The first classification algorithm we used is <b>Logistic Regression</b>\n",
    "<br>\n",
    "We will be using two algorithms on this data and will deploy our model with the better performing one."
   ]
  },
  {
   "cell_type": "code",
   "execution_count": 35,
   "id": "fd5c2ce4",
   "metadata": {},
   "outputs": [],
   "source": [
    "logreg = LogisticRegression(max_iter=600)"
   ]
  },
  {
   "cell_type": "code",
   "execution_count": 36,
   "id": "98d4e02f",
   "metadata": {},
   "outputs": [
    {
     "name": "stdout",
     "output_type": "stream",
     "text": [
      "********************************************************\n",
      "Applying Logistic Regression...\n",
      "Model is trained. It took 41.4375 seconds to train the model!\n",
      "********************************************************\n"
     ]
    }
   ],
   "source": [
    "print('********************************************************')\n",
    "print('Applying Logistic Regression...')\n",
    "start = process_time()\n",
    "logreg.fit(trainX, trainY)\n",
    "end = process_time()\n",
    "print(f'Model is trained. It took {end - start} seconds to train the model!')\n",
    "print('********************************************************')"
   ]
  },
  {
   "cell_type": "code",
   "execution_count": 37,
   "id": "e9a52325",
   "metadata": {},
   "outputs": [
    {
     "name": "stdout",
     "output_type": "stream",
     "text": [
      "The model has a 96.80% Training accuracy\n",
      "The model has a 95.77% Testing accuracy\n"
     ]
    }
   ],
   "source": [
    "print(f'The model has a {logreg.score(trainX, trainY) * 100:.2f}% Training accuracy')\n",
    "print(f'The model has a {logreg.score(testX, testY) * 100:.2f}% Testing accuracy')\n",
    "# Appending the logistic regression model score to our list\n",
    "model_scores.append(logreg.score(testX, testY))"
   ]
  },
  {
   "cell_type": "markdown",
   "id": "6d9a1290",
   "metadata": {},
   "source": [
    "### Confusion Matrix for Logistic Regression\n",
    "Using the confusion matrix we can visualise that how accurate our model is"
   ]
  },
  {
   "cell_type": "code",
   "execution_count": 38,
   "id": "5ef26bbd",
   "metadata": {
    "scrolled": false
   },
   "outputs": [
    {
     "name": "stdout",
     "output_type": "stream",
     "text": [
      "Classification Matrix for the model is: \n",
      "\n"
     ]
    },
    {
     "data": {
      "image/png": "[encoded data removed]",
      "text/plain": [
       "<Figure size 576x432 with 2 Axes>"
      ]
     },
     "metadata": {
      "needs_background": "light"
     },
     "output_type": "display_data"
    }
   ],
   "source": [
    "conf_mat = pd.DataFrame(confusion_matrix(logreg.predict(testX), testY), columns = ['Prediction: Bad', 'Prediction: Good'], index = ['Actual: Bad', 'Actual: Good'])\n",
    "print('Classification Matrix for the model is: \\n')\n",
    "figure(figsize = (8, 6))\n",
    "sns.heatmap(conf_mat, annot = True, fmt = 'd')\n",
    "plt.show();"
   ]
  },
  {
   "cell_type": "markdown",
   "id": "6e78af22",
   "metadata": {},
   "source": [
    "## 2. Random Forest\n",
    "The Second classification algorithm we used is <b>Random Forest</b>\n",
    "<br>"
   ]
  },
  {
   "cell_type": "code",
   "execution_count": 39,
   "id": "21377501",
   "metadata": {},
   "outputs": [],
   "source": [
    "rf = RandomForestClassifier(n_estimators=1,max_depth=2,random_state=0)"
   ]
  },
  {
   "cell_type": "code",
   "execution_count": null,
   "id": "3695b3be",
   "metadata": {},
   "outputs": [],
   "source": []
  },
  {
   "cell_type": "code",
   "execution_count": 40,
   "id": "9d0080bc",
   "metadata": {},
   "outputs": [
    {
     "name": "stdout",
     "output_type": "stream",
     "text": [
      "********************************************************\n",
      "Applying Random forest algorithm ...\n",
      "Model is trained. It took 2.1875 seconds to train the model!\n",
      "********************************************************\n"
     ]
    }
   ],
   "source": [
    "print('********************************************************')\n",
    "print('Applying Random forest algorithm ...')\n",
    "start = process_time()\n",
    "rf.fit(trainX, trainY)\n",
    "end = process_time()\n",
    "print(f'Model is trained. It took {end - start} seconds to train the model!')\n",
    "print('********************************************************')"
   ]
  },
  {
   "cell_type": "code",
   "execution_count": 41,
   "id": "f9692443",
   "metadata": {},
   "outputs": [
    {
     "name": "stdout",
     "output_type": "stream",
     "text": [
      "0.7764782582407327\n"
     ]
    }
   ],
   "source": [
    "score = rf.score(trainX,trainY)\n",
    "print(score)"
   ]
  },
  {
   "cell_type": "code",
   "execution_count": 42,
   "id": "0ce37fec",
   "metadata": {},
   "outputs": [
    {
     "name": "stdout",
     "output_type": "stream",
     "text": [
      "0.7727602523659306\n"
     ]
    }
   ],
   "source": [
    "score = rf.score(testX,testY)\n",
    "print(score)"
   ]
  },
  {
   "cell_type": "markdown",
   "id": "6adafe59",
   "metadata": {},
   "source": [
    "### We implemented our random forest with  estimator trees . It may be not the max accuracy , So we will iterate for 2-5 estimators and check for maximum \n",
    "#### Because of heavy data we can't take more estimator trees as it will take huge time "
   ]
  },
  {
   "cell_type": "code",
   "execution_count": 43,
   "id": "626722b7",
   "metadata": {},
   "outputs": [
    {
     "name": "stdout",
     "output_type": "stream",
     "text": [
      "0.7771538745096847\n",
      "0.7765097992458417\n",
      "0.7756002276066764\n"
     ]
    }
   ],
   "source": [
    "acc_lst = []\n",
    "for i in range(1,4):\n",
    "    acc = cross_val_score(RandomForestClassifier(n_estimators=i,max_depth=2,criterion='entropy'),trainX,trainY,cv=5).mean()\n",
    "    print(acc)\n",
    "    acc_lst.append(acc)"
   ]
  },
  {
   "cell_type": "code",
   "execution_count": 44,
   "id": "bc8821e4",
   "metadata": {},
   "outputs": [
    {
     "name": "stdout",
     "output_type": "stream",
     "text": [
      "[0.7771538745096847, 0.7765097992458417, 0.7756002276066764]\n"
     ]
    },
    {
     "data": {
      "image/png": "[encoded data removed]",
      "text/plain": [
       "<Figure size 432x288 with 1 Axes>"
      ]
     },
     "metadata": {
      "needs_background": "light"
     },
     "output_type": "display_data"
    }
   ],
   "source": [
    "print(acc_lst)\n",
    "plt.plot(acc_lst)\n",
    "mx = np.argmax(acc_lst)\n",
    "plt.show()"
   ]
  },
  {
   "cell_type": "markdown",
   "id": "104efeae",
   "metadata": {},
   "source": [
    "### If we calculate this for 20-30 estimator tree tree will be more randomised and we will choose the point where it gave maximum accuracy "
   ]
  },
  {
   "cell_type": "code",
   "execution_count": 45,
   "id": "3c05afdb",
   "metadata": {},
   "outputs": [
    {
     "data": {
      "text/html": [
       "<style>#sk-container-id-1 {color: black;background-color: white;}#sk-container-id-1 pre{padding: 0;}#sk-container-id-1 div.sk-toggleable {background-color: white;}#sk-container-id-1 label.sk-toggleable__label {cursor: pointer;display: block;width: 100%;margin-bottom: 0;padding: 0.3em;box-sizing: border-box;text-align: center;}#sk-container-id-1 label.sk-toggleable__label-arrow:before {content: \"▸\";float: left;margin-right: 0.25em;color: #696969;}#sk-container-id-1 label.sk-toggleable__label-arrow:hover:before {color: black;}#sk-container-id-1 div.sk-estimator:hover label.sk-toggleable__label-arrow:before {color: black;}#sk-container-id-1 div.sk-toggleable__content {max-height: 0;max-width: 0;overflow: hidden;text-align: left;background-color: #f0f8ff;}#sk-container-id-1 div.sk-toggleable__content pre {margin: 0.2em;color: black;border-radius: 0.25em;background-color: #f0f8ff;}#sk-container-id-1 input.sk-toggleable__control:checked~div.sk-toggleable__content {max-height: 200px;max-width: 100%;overflow: auto;}#sk-container-id-1 input.sk-toggleable__control:checked~label.sk-toggleable__label-arrow:before {content: \"▾\";}#sk-container-id-1 div.sk-estimator input.sk-toggleable__control:checked~label.sk-toggleable__label {background-color: #d4ebff;}#sk-container-id-1 div.sk-label input.sk-toggleable__control:checked~label.sk-toggleable__label {background-color: #d4ebff;}#sk-container-id-1 input.sk-hidden--visually {border: 0;clip: rect(1px 1px 1px 1px);clip: rect(1px, 1px, 1px, 1px);height: 1px;margin: -1px;overflow: hidden;padding: 0;position: absolute;width: 1px;}#sk-container-id-1 div.sk-estimator {font-family: monospace;background-color: #f0f8ff;border: 1px dotted black;border-radius: 0.25em;box-sizing: border-box;margin-bottom: 0.5em;}#sk-container-id-1 div.sk-estimator:hover {background-color: #d4ebff;}#sk-container-id-1 div.sk-parallel-item::after {content: \"\";width: 100%;border-bottom: 1px solid gray;flex-grow: 1;}#sk-container-id-1 div.sk-label:hover label.sk-toggleable__label {background-color: #d4ebff;}#sk-container-id-1 div.sk-serial::before {content: \"\";position: absolute;border-left: 1px solid gray;box-sizing: border-box;top: 0;bottom: 0;left: 50%;z-index: 0;}#sk-container-id-1 div.sk-serial {display: flex;flex-direction: column;align-items: center;background-color: white;padding-right: 0.2em;padding-left: 0.2em;position: relative;}#sk-container-id-1 div.sk-item {position: relative;z-index: 1;}#sk-container-id-1 div.sk-parallel {display: flex;align-items: stretch;justify-content: center;background-color: white;position: relative;}#sk-container-id-1 div.sk-item::before, #sk-container-id-1 div.sk-parallel-item::before {content: \"\";position: absolute;border-left: 1px solid gray;box-sizing: border-box;top: 0;bottom: 0;left: 50%;z-index: -1;}#sk-container-id-1 div.sk-parallel-item {display: flex;flex-direction: column;z-index: 1;position: relative;background-color: white;}#sk-container-id-1 div.sk-parallel-item:first-child::after {align-self: flex-end;width: 50%;}#sk-container-id-1 div.sk-parallel-item:last-child::after {align-self: flex-start;width: 50%;}#sk-container-id-1 div.sk-parallel-item:only-child::after {width: 0;}#sk-container-id-1 div.sk-dashed-wrapped {border: 1px dashed gray;margin: 0 0.4em 0.5em 0.4em;box-sizing: border-box;padding-bottom: 0.4em;background-color: white;}#sk-container-id-1 div.sk-label label {font-family: monospace;font-weight: bold;display: inline-block;line-height: 1.2em;}#sk-container-id-1 div.sk-label-container {text-align: center;}#sk-container-id-1 div.sk-container {/* jupyter's `normalize.less` sets `[hidden] { display: none; }` but bootstrap.min.css set `[hidden] { display: none !important; }` so we also need the `!important` here to be able to override the default hidden behavior on the sphinx rendered scikit-learn.org. See: https://github.com/scikit-learn/scikit-learn/issues/21755 */display: inline-block !important;position: relative;}#sk-container-id-1 div.sk-text-repr-fallback {display: none;}</style><div id=\"sk-container-id-1\" class=\"sk-top-container\"><div class=\"sk-text-repr-fallback\"><pre>RandomForestClassifier(criterion=&#x27;entropy&#x27;, max_depth=3, n_estimators=2)</pre><b>In a Jupyter environment, please rerun this cell to show the HTML representation or trust the notebook. <br />On GitHub, the HTML representation is unable to render, please try loading this page with nbviewer.org.</b></div><div class=\"sk-container\" hidden><div class=\"sk-item\"><div class=\"sk-estimator sk-toggleable\"><input class=\"sk-toggleable__control sk-hidden--visually\" id=\"sk-estimator-id-1\" type=\"checkbox\" checked><label for=\"sk-estimator-id-1\" class=\"sk-toggleable__label sk-toggleable__label-arrow\">RandomForestClassifier</label><div class=\"sk-toggleable__content\"><pre>RandomForestClassifier(criterion=&#x27;entropy&#x27;, max_depth=3, n_estimators=2)</pre></div></div></div></div></div>"
      ],
      "text/plain": [
       "RandomForestClassifier(criterion='entropy', max_depth=3, n_estimators=2)"
      ]
     },
     "execution_count": 45,
     "metadata": {},
     "output_type": "execute_result"
    }
   ],
   "source": [
    "# We got the maximum n_estimator point now (:\n",
    "# print(mx)\n",
    "rf = RandomForestClassifier(n_estimators = 2,max_depth=3,criterion='entropy')\n",
    "rf.fit(trainX,trainY)"
   ]
  },
  {
   "cell_type": "code",
   "execution_count": 46,
   "id": "dd4cf65f",
   "metadata": {},
   "outputs": [
    {
     "name": "stdout",
     "output_type": "stream",
     "text": [
      "The model has a 77.76% Training accuracy\n",
      "The model has a 77.42% Testing accuracy\n"
     ]
    }
   ],
   "source": [
    "print(f'The model has a {rf.score(trainX,trainY) * 100:.2f}% Training accuracy')\n",
    "print(f'The model has a {rf.score(testX,testY) * 100:.2f}% Testing accuracy')"
   ]
  },
  {
   "cell_type": "code",
   "execution_count": 47,
   "id": "afe133c8",
   "metadata": {},
   "outputs": [
    {
     "name": "stdout",
     "output_type": "stream",
     "text": [
      "Classification Matrix for the model is: \n",
      "\n"
     ]
    },
    {
     "data": {
      "image/png": "[encoded data removed]",
      "text/plain": [
       "<Figure size 576x432 with 2 Axes>"
      ]
     },
     "metadata": {
      "needs_background": "light"
     },
     "output_type": "display_data"
    }
   ],
   "source": [
    "conf_matRF = pd.DataFrame(confusion_matrix(rf.predict(testX), testY), columns = ['Prediction: Bad', 'Prediction: Good'], index = ['Actual: Bad', 'Actual: Good'])\n",
    "print('Classification Matrix for the model is: \\n')\n",
    "figure(figsize = (8, 6))\n",
    "sns.heatmap(conf_matRF, annot = True, fmt = 'd')\n",
    "plt.show();"
   ]
  },
  {
   "cell_type": "markdown",
   "id": "a4de50c8",
   "metadata": {},
   "source": [
    "### We can see that Logistic Regression performs better than Random Forest Classfier on our dataset so we will dump our model as pickel file"
   ]
  },
  {
   "cell_type": "code",
   "execution_count": 48,
   "id": "ae786032",
   "metadata": {},
   "outputs": [],
   "source": [
    "pipeline_logreg = make_pipeline(TfidfVectorizer(tokenizer = RegexpTokenizer(r'[A-Za-z]+').tokenize), LogisticRegression(max_iter=600))"
   ]
  },
  {
   "cell_type": "code",
   "execution_count": 49,
   "id": "c78ed9c3",
   "metadata": {},
   "outputs": [],
   "source": [
    "trainX, testX, trainY, testY = train_test_split(url_df.url, url_df.label)"
   ]
  },
  {
   "cell_type": "code",
   "execution_count": 50,
   "id": "32b58db2",
   "metadata": {},
   "outputs": [
    {
     "name": "stdout",
     "output_type": "stream",
     "text": [
      "*******************************************\n",
      "Training...\n"
     ]
    },
    {
     "name": "stderr",
     "output_type": "stream",
     "text": [
      "c:\\python 3.9.0\\lib\\site-packages\\sklearn\\feature_extraction\\text.py:528: UserWarning: The parameter 'token_pattern' will not be used since 'tokenizer' is not None'\n",
      "  warnings.warn(\n"
     ]
    },
    {
     "name": "stdout",
     "output_type": "stream",
     "text": [
      "Process Finished\n",
      "*******************************************\n"
     ]
    }
   ],
   "source": [
    "print('*******************************************')\n",
    "print('Training...')\n",
    "pipeline_logreg.fit(trainX,trainY)\n",
    "print('Process Finished')\n",
    "print('*******************************************')"
   ]
  },
  {
   "cell_type": "code",
   "execution_count": 51,
   "id": "b825d9fc",
   "metadata": {},
   "outputs": [
    {
     "name": "stdout",
     "output_type": "stream",
     "text": [
      "The accuracy is: 0.9604179810725552\n"
     ]
    }
   ],
   "source": [
    "print(f'The accuracy is: {pipeline_logreg.score(testX, testY)}')"
   ]
  },
  {
   "cell_type": "code",
   "execution_count": 52,
   "id": "89b78f9a",
   "metadata": {},
   "outputs": [],
   "source": [
    "pickle.dump(pipeline_logreg,open('logreg.pkl','wb'))"
   ]
  },
  {
   "cell_type": "code",
   "execution_count": 53,
   "id": "5ad62507",
   "metadata": {},
   "outputs": [
    {
     "name": "stdout",
     "output_type": "stream",
     "text": [
      "0.9604179810725552\n"
     ]
    }
   ],
   "source": [
    "loaded_logreg = pickle.load(open('logreg.pkl', 'rb'))\n",
    "res = loaded_logreg.score(testX, testY)\n",
    "print(res)"
   ]
  },
  {
   "cell_type": "code",
   "execution_count": 54,
   "id": "82d808fc",
   "metadata": {},
   "outputs": [
    {
     "name": "stdout",
     "output_type": "stream",
     "text": [
      "['good']\n"
     ]
    }
   ],
   "source": [
    "url = ['stackoverflow.com/questions/']\n",
    "res = loaded_logreg.predict(url)\n",
    "print(res)"
   ]
  }
 ],
 "metadata": {
  "kernelspec": {
   "display_name": "Python 3",
   "language": "python",
   "name": "python3"
  },
  "language_info": {
   "codemirror_mode": {
    "name": "ipython",
    "version": 3
   },
   "file_extension": ".py",
   "mimetype": "text/x-python",
   "name": "python",
   "nbconvert_exporter": "python",
   "pygments_lexer": "ipython3",
   "version": "3.9.0"
  },
  "vscode": {
   "interpreter": {
    "hash": "48db5994b0b093154e25f6d4586d2f03fde606f6ef9d42249ec5726610311839"
   }
  }
 },
 "nbformat": 4,
 "nbformat_minor": 5
}
